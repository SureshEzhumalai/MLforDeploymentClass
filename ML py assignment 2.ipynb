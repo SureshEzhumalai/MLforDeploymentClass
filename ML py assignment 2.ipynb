{
 "cells": [
  {
   "cell_type": "markdown",
   "metadata": {},
   "source": [
    "## ML for Deployment python assignment - 2"
   ]
  },
  {
   "cell_type": "markdown",
   "metadata": {},
   "source": [
    "## Task 1, Problem 1"
   ]
  },
  {
   "cell_type": "code",
   "execution_count": 1,
   "metadata": {},
   "outputs": [],
   "source": [
    "# 1.1\n",
    "def myreduce(func, seq):\n",
    "    # return none when there is no element to iterate\n",
    "    if len(seq) == 0:\n",
    "        return None\n",
    "    # variable to store first element of the sequence\n",
    "    result = seq[0]\n",
    "    # loop thru sequence from second element and apply the fucntion\n",
    "    for i in seq[1:]:\n",
    "        result = func(result , i)\n",
    "    return result\n",
    "    "
   ]
  },
  {
   "cell_type": "code",
   "execution_count": 2,
   "metadata": {},
   "outputs": [
    {
     "name": "stdout",
     "output_type": "stream",
     "text": [
      "None\n",
      "25\n",
      "0\n",
      "6\n"
     ]
    }
   ],
   "source": [
    "print(myreduce(lambda x,y: x+y,[]))             # None\n",
    "print(myreduce(lambda x,y: x+y, [3,3,5,6,8]))          # 25\n",
    "print(myreduce(lambda x,y: x+y, [-1, 3, -2]))  # 0\n",
    "print(myreduce(lambda x,y: x*y, [-1, 3, -2]))  # 6"
   ]
  },
  {
   "cell_type": "code",
   "execution_count": 3,
   "metadata": {},
   "outputs": [],
   "source": [
    "# 1.2\n",
    "def myfilter(func, seq):\n",
    "    \n",
    "    # empty list to store boolean list\n",
    "    result = []\n",
    "    \n",
    "    for element in seq:\n",
    "        if func(element):\n",
    "            result.append(element)\n",
    "    return result\n",
    "    "
   ]
  },
  {
   "cell_type": "code",
   "execution_count": 4,
   "metadata": {},
   "outputs": [
    {
     "name": "stdout",
     "output_type": "stream",
     "text": [
      "[27, 38]\n"
     ]
    }
   ],
   "source": [
    "numbers = [1, 3, 27, 10, 38]\n",
    "\n",
    "print(myfilter(lambda n: n > 10, numbers)) # [27, 38]\n"
   ]
  },
  {
   "cell_type": "markdown",
   "metadata": {},
   "source": [
    "## Task 1 ,Problem - 2\n",
    "* Implement List comprehensions to produce the following lists.\n",
    "* Write List comprehensions to produce the following Lists\n",
    "* ['A', 'C', 'A', 'D', 'G', 'I', ’L’, ‘ D’]\n",
    "* ['x', 'xx', 'xxx', 'xxxx', 'y', 'yy', 'yyy', 'yyyy', 'z', 'zz', 'zzz', 'zzzz']\n",
    "* ['x', 'y', 'z', 'xx', 'yy', 'zz', 'xx', 'yy', 'zz', 'xxxx', 'yyyy', 'zzzz']\n",
    "* [[2], [3], [4], [3], [4], [5], [4], [5], [6]]\n",
    "* [[2, 3, 4, 5], [3, 4, 5, 6], [4, 5, 6, 7], [5, 6, 7, 8]]\n",
    "* [(1, 1), (2, 1), (3, 1), (1, 2), (2, 2), (3, 2), (1, 3), (2, 3), (3, 3)]"
   ]
  },
  {
   "cell_type": "code",
   "execution_count": 5,
   "metadata": {},
   "outputs": [
    {
     "data": {
      "text/plain": [
       "['A', 'C', 'A', 'D', 'G', 'I', 'L', 'D']"
      ]
     },
     "execution_count": 5,
     "metadata": {},
     "output_type": "execute_result"
    }
   ],
   "source": [
    "# 2.1 \n",
    "[x for x in 'ACADGILD']"
   ]
  },
  {
   "cell_type": "code",
   "execution_count": 6,
   "metadata": {},
   "outputs": [
    {
     "data": {
      "text/plain": [
       "['x', 'xx', 'xxx', 'xxxx', 'y', 'yy', 'yyy', 'yyyy', 'z', 'zz', 'zzz', 'zzzz']"
      ]
     },
     "execution_count": 6,
     "metadata": {},
     "output_type": "execute_result"
    }
   ],
   "source": [
    "# 2.2 \n",
    "[i*j for i in 'xyz' for j in range(1,5)]"
   ]
  },
  {
   "cell_type": "code",
   "execution_count": 7,
   "metadata": {
    "scrolled": true
   },
   "outputs": [
    {
     "data": {
      "text/plain": [
       "['x', 'y', 'z', 'xx', 'yy', 'zz', 'xxx', 'yyy', 'zzz']"
      ]
     },
     "execution_count": 7,
     "metadata": {},
     "output_type": "execute_result"
    }
   ],
   "source": [
    "# 2.3\n",
    "[i*j for i in range(1,4) for j in 'xyz']"
   ]
  },
  {
   "cell_type": "code",
   "execution_count": 8,
   "metadata": {},
   "outputs": [
    {
     "name": "stdout",
     "output_type": "stream",
     "text": [
      "2, 3, 4, 3, 4, 5, 4, 5, 6, "
     ]
    }
   ],
   "source": [
    "# 2.4\n",
    "# I dont know how to approach this problem in list comprehension. Explain it. \n",
    "# Solved using normal for loop\n",
    "start = 2\n",
    "end = 5\n",
    "for i in range(1, 4):\n",
    "    for j in range(start,end):\n",
    "        print(j, end= \", \")\n",
    "    start += 1\n",
    "    end += 1\n",
    "    \n",
    "        "
   ]
  },
  {
   "cell_type": "code",
   "execution_count": 9,
   "metadata": {},
   "outputs": [],
   "source": [
    "# 2.5\n",
    "# Solved using normal for loop\n",
    "start = 2\n",
    "end = 6\n",
    "outerlist = []\n",
    "for i in range(1, 5):\n",
    "    innerlist = []\n",
    "    for j in range(start,end):\n",
    "        innerlist.append(j)\n",
    "    outerlist.append(innerlist)\n",
    "    start += 1\n",
    "    end += 1"
   ]
  },
  {
   "cell_type": "code",
   "execution_count": 10,
   "metadata": {},
   "outputs": [
    {
     "name": "stdout",
     "output_type": "stream",
     "text": [
      "[[2, 3, 4, 5], [3, 4, 5, 6], [4, 5, 6, 7], [5, 6, 7, 8]]\n"
     ]
    }
   ],
   "source": [
    "print(outerlist)"
   ]
  },
  {
   "cell_type": "code",
   "execution_count": 11,
   "metadata": {},
   "outputs": [
    {
     "data": {
      "text/plain": [
       "[(1, 1), (2, 1), (3, 1), (1, 2), (2, 2), (3, 2), (1, 3), (2, 3), (3, 3)]"
      ]
     },
     "execution_count": 11,
     "metadata": {},
     "output_type": "execute_result"
    }
   ],
   "source": [
    "# 2.6\n",
    "[(j, i) for i in range(1, 4) for j in range(1,4)]"
   ]
  },
  {
   "cell_type": "markdown",
   "metadata": {},
   "source": [
    "## Task 1,Problem -3 \n",
    "* Implement a function longestWord() that takes a list of words and returns the longest one."
   ]
  },
  {
   "cell_type": "code",
   "execution_count": 12,
   "metadata": {},
   "outputs": [],
   "source": [
    "def longestWord(strlist):\n",
    "    wordlen = []\n",
    "    for word in strlist:\n",
    "        wordlen.append((word, len(word)))\n",
    "    wordlen.sort()\n",
    "    return wordlen[-1][0]\n",
    "                       "
   ]
  },
  {
   "cell_type": "code",
   "execution_count": 13,
   "metadata": {},
   "outputs": [
    {
     "data": {
      "text/plain": [
       "'typescript'"
      ]
     },
     "execution_count": 13,
     "metadata": {},
     "output_type": "execute_result"
    }
   ],
   "source": [
    "longestWord(['python', 'javascript', 'java', 'c', 'c++', 'html', 'css','typescript'])"
   ]
  },
  {
   "cell_type": "markdown",
   "metadata": {},
   "source": [
    "## Task 2, Problem 1"
   ]
  },
  {
   "cell_type": "code",
   "execution_count": 14,
   "metadata": {},
   "outputs": [],
   "source": [
    "# 1\n",
    "\n",
    "class Polygon:\n",
    "    def __init__(self, no_of_sides):\n",
    "        self.n = no_of_sides\n",
    "        #self.sides = [0 for i in range(no_of_sides)]\n",
    "    def inputSides(self):\n",
    "        self.sides = [float(input(\"Enter side \"+str(i+1)+\" : \")) for i in range(self.n)]\n",
    "    def dispSides(self):\n",
    "        for i in range(self.n):\n",
    "            print(\"Side\",i+1,\"is\",self.sides[i])\n",
    "        \n",
    "    "
   ]
  },
  {
   "cell_type": "code",
   "execution_count": 15,
   "metadata": {},
   "outputs": [],
   "source": [
    "class Triangle(Polygon):\n",
    "    def __init__(self):\n",
    "        Polygon.__init__(self,3)\n",
    "    def findArea(self):\n",
    "        a, b, c = self.sides\n",
    "        # calculate the semi-perimeter\n",
    "        s = (a + b + c) / 2\n",
    "        area = (s*(s-a)*(s-b)*(s-c)) ** 0.5\n",
    "        print('The area of the triangle is %0.2f' %area)"
   ]
  },
  {
   "cell_type": "code",
   "execution_count": 16,
   "metadata": {
    "scrolled": true
   },
   "outputs": [
    {
     "name": "stdout",
     "output_type": "stream",
     "text": [
      "Enter side 1 : 2\n",
      "Enter side 2 : 3\n",
      "Enter side 3 : 4\n"
     ]
    }
   ],
   "source": [
    "t = Triangle()\n",
    "t.inputSides()"
   ]
  },
  {
   "cell_type": "code",
   "execution_count": 17,
   "metadata": {
    "scrolled": true
   },
   "outputs": [
    {
     "name": "stdout",
     "output_type": "stream",
     "text": [
      "Side 1 is 2.0\n",
      "Side 2 is 3.0\n",
      "Side 3 is 4.0\n"
     ]
    }
   ],
   "source": [
    "t.dispSides()"
   ]
  },
  {
   "cell_type": "code",
   "execution_count": 18,
   "metadata": {},
   "outputs": [
    {
     "name": "stdout",
     "output_type": "stream",
     "text": [
      "The area of the triangle is 2.90\n"
     ]
    }
   ],
   "source": [
    "t.findArea()"
   ]
  },
  {
   "cell_type": "markdown",
   "metadata": {},
   "source": [
    "## Task 2 , Problem 1.2\n",
    "* Write a function filter_long_words() that takes a list of words and an integer n and returns the list\n",
    "of words that are longer than n."
   ]
  },
  {
   "cell_type": "code",
   "execution_count": 19,
   "metadata": {},
   "outputs": [],
   "source": [
    "# 1.2\n",
    "def filter_long_words(strlist, length):\n",
    "    longwords = []\n",
    "    for i in range(len(strlist)):\n",
    "        if len(strlist[i]) >= length:\n",
    "            longwords.append(strlist[i])\n",
    "    return longwords"
   ]
  },
  {
   "cell_type": "code",
   "execution_count": 20,
   "metadata": {},
   "outputs": [
    {
     "data": {
      "text/plain": [
       "['python', 'javascript', 'typescript']"
      ]
     },
     "execution_count": 20,
     "metadata": {},
     "output_type": "execute_result"
    }
   ],
   "source": [
    "filter_long_words(['python', 'javascript', 'java', 'c', 'c++', 'html', 'css','typescript'], 5)"
   ]
  },
  {
   "cell_type": "markdown",
   "metadata": {},
   "source": [
    "## Task 2 , Problem 2"
   ]
  },
  {
   "cell_type": "code",
   "execution_count": 21,
   "metadata": {},
   "outputs": [],
   "source": [
    "#2.1\n",
    "def string_list_len(string_list):\n",
    "    str_len = []\n",
    "    for each_word in string_list:\n",
    "        str_len.append(len(each_word))\n",
    "    return str_len"
   ]
  },
  {
   "cell_type": "code",
   "execution_count": 22,
   "metadata": {},
   "outputs": [
    {
     "data": {
      "text/plain": [
       "[6, 10, 4, 1, 3, 4, 3, 10]"
      ]
     },
     "execution_count": 22,
     "metadata": {},
     "output_type": "execute_result"
    }
   ],
   "source": [
    "string_list_len(['python', 'javascript', 'java', 'c', 'c++', 'html', 'css','typescript'])"
   ]
  },
  {
   "cell_type": "code",
   "execution_count": 23,
   "metadata": {},
   "outputs": [],
   "source": [
    "#2.2\n",
    "def checkvowel(st):\n",
    "    if st in 'aeiou':\n",
    "        return True\n",
    "    else:\n",
    "        return False"
   ]
  },
  {
   "cell_type": "code",
   "execution_count": 24,
   "metadata": {},
   "outputs": [
    {
     "data": {
      "text/plain": [
       "True"
      ]
     },
     "execution_count": 24,
     "metadata": {},
     "output_type": "execute_result"
    }
   ],
   "source": [
    "checkvowel('a')"
   ]
  },
  {
   "cell_type": "code",
   "execution_count": 25,
   "metadata": {},
   "outputs": [
    {
     "data": {
      "text/plain": [
       "False"
      ]
     },
     "execution_count": 25,
     "metadata": {},
     "output_type": "execute_result"
    }
   ],
   "source": [
    "checkvowel('k')"
   ]
  }
 ],
 "metadata": {
  "kernelspec": {
   "display_name": "Python 3",
   "language": "python",
   "name": "python3"
  },
  "language_info": {
   "codemirror_mode": {
    "name": "ipython",
    "version": 3
   },
   "file_extension": ".py",
   "mimetype": "text/x-python",
   "name": "python",
   "nbconvert_exporter": "python",
   "pygments_lexer": "ipython3",
   "version": "3.6.5"
  }
 },
 "nbformat": 4,
 "nbformat_minor": 2
}
